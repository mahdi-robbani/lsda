{
 "cells": [
  {
   "cell_type": "markdown",
   "metadata": {},
   "source": [
    "This notebook is about the Landsat dataset. We make use of the model trained before and will apply this in a distributed fashion by broadcasting the model to all worker nodes."
   ]
  },
  {
   "cell_type": "code",
   "execution_count": 1,
   "metadata": {},
   "outputs": [
    {
     "name": "stdout",
     "output_type": "stream",
     "text": [
      "First line of the validation RDD: ['4,2533,2269,1904,2447,2204,2048,1063,1061,4590']\n",
      "Number of elements in the validation RDD: 1335558\n"
     ]
    }
   ],
   "source": [
    "validation = sc.textFile(\"hdfs:///user/lsda/landsat/landsat_validation.csv\")\n",
    "\n",
    "print(\"First line of the validation RDD: {}\".format(validation.take(1)))\n",
    "print(\"Number of elements in the validation RDD: {}\".format(validation.count()))"
   ]
  },
  {
   "cell_type": "markdown",
   "metadata": {},
   "source": [
    "Next, we define a Python function to extract, for each line, the label and the associated features."
   ]
  },
  {
   "cell_type": "code",
   "execution_count": 2,
   "metadata": {},
   "outputs": [
    {
     "name": "stdout",
     "output_type": "stream",
     "text": [
      "First line of modified RDD: [(4, [2533.0, 2269.0, 1904.0, 2447.0, 2204.0, 2048.0, 1063.0, 1061.0, 4590.0])]\n"
     ]
    }
   ],
   "source": [
    "def parse(line):\n",
    "    \n",
    "    try:\n",
    "    \n",
    "        line = line.split(',')\n",
    "        label = int(line[0])\n",
    "        features = [float(f) for f in line[1:]]\n",
    "        \n",
    "        return (label, features)\n",
    "    \n",
    "    except Exception as e:\n",
    "        \n",
    "        return None\n",
    "\n",
    "validation = validation.map(parse)\n",
    "validation = validation.filter(lambda line: line is not None)\n",
    "\n",
    "print(\"First line of modified RDD: {}\".format(validation.take(1)))"
   ]
  },
  {
   "cell_type": "markdown",
   "metadata": {},
   "source": [
    "Let's load the fitted tree ensemble. This happens on the driver machine."
   ]
  },
  {
   "cell_type": "code",
   "execution_count": 3,
   "metadata": {},
   "outputs": [
    {
     "ename": "FileNotFoundError",
     "evalue": "[Errno 2] No such file or directory: 'model.save'",
     "output_type": "error",
     "traceback": [
      "\u001b[0;31m---------------------------------------------------------------------------\u001b[0m",
      "\u001b[0;31mFileNotFoundError\u001b[0m                         Traceback (most recent call last)",
      "\u001b[0;32m<ipython-input-3-d427f4d56183>\u001b[0m in \u001b[0;36m<module>\u001b[0;34m\u001b[0m\n\u001b[1;32m      1\u001b[0m \u001b[0;32mimport\u001b[0m \u001b[0mpickle\u001b[0m\u001b[0;34m\u001b[0m\u001b[0;34m\u001b[0m\u001b[0m\n\u001b[1;32m      2\u001b[0m \u001b[0;34m\u001b[0m\u001b[0m\n\u001b[0;32m----> 3\u001b[0;31m \u001b[0;32mwith\u001b[0m \u001b[0mopen\u001b[0m\u001b[0;34m(\u001b[0m\u001b[0;34m'model.save'\u001b[0m\u001b[0;34m,\u001b[0m \u001b[0;34m'rb'\u001b[0m\u001b[0;34m)\u001b[0m \u001b[0;32mas\u001b[0m \u001b[0mf\u001b[0m\u001b[0;34m:\u001b[0m\u001b[0;34m\u001b[0m\u001b[0;34m\u001b[0m\u001b[0m\n\u001b[0m\u001b[1;32m      4\u001b[0m     \u001b[0mmodel_driver\u001b[0m \u001b[0;34m=\u001b[0m \u001b[0mpickle\u001b[0m\u001b[0;34m.\u001b[0m\u001b[0mload\u001b[0m\u001b[0;34m(\u001b[0m\u001b[0mf\u001b[0m\u001b[0;34m)\u001b[0m\u001b[0;34m\u001b[0m\u001b[0;34m\u001b[0m\u001b[0m\n",
      "\u001b[0;31mFileNotFoundError\u001b[0m: [Errno 2] No such file or directory: 'model.save'"
     ]
    }
   ],
   "source": [
    "import pickle\n",
    "\n",
    "with open('model.save', 'rb') as f:\n",
    "    model_driver = pickle.load(f)"
   ]
  },
  {
   "cell_type": "code",
   "execution_count": null,
   "metadata": {},
   "outputs": [],
   "source": [
    "# (1) broadcast the model \n",
    "\n",
    "model = sc.broadcast(model_driver)\n",
    "\n",
    "# (2) apply 'map' to the validation RDD to obtain a new RDD \n",
    "#     'labels_predictions' with elements of the form (label, pred)\n",
    "import numpy\n",
    "def compute_predictions(row):\n",
    "\n",
    "    label = row[0]\n",
    "    features = numpy.array(row[1]).reshape((1,9))\n",
    "    pred = int(model.value.predict(features))\n",
    "    \n",
    "    return (label, pred)\n",
    "\n",
    "# Task: This transformation takes a long time! Instead \n",
    "# of 'map', make use of the 'mapPartitions' transformation, see\n",
    "# https://spark.apache.org/docs/latest/rdd-programming-guide.html\n",
    "validation = validation.sample(False, 0.01)\n",
    "labels_preds = validation.map(compute_predictions)\n",
    "\n",
    "# YOUR CODE HERE\n",
    "# labels_preds = ..."
   ]
  },
  {
   "cell_type": "code",
   "execution_count": null,
   "metadata": {},
   "outputs": [],
   "source": [
    "labels_preds.take(10)"
   ]
  },
  {
   "cell_type": "code",
   "execution_count": null,
   "metadata": {},
   "outputs": [],
   "source": [
    "def compute_errors(row):\n",
    "    \n",
    "    if row[0] == row[1]:\n",
    "        return 0\n",
    "    else:\n",
    "        return 1\n",
    "    \n",
    "errors = labels_preds.map(compute_errors)\n",
    "errors_count = errors.reduce(lambda a,b:a+b)\n",
    "labels_count = labels_preds.count()"
   ]
  },
  {
   "cell_type": "code",
   "execution_count": null,
   "metadata": {},
   "outputs": [],
   "source": [
    "print(\"Classification accuracy: {}\".format(1 - errors_count / labels_count))"
   ]
  },
  {
   "cell_type": "code",
   "execution_count": null,
   "metadata": {},
   "outputs": [],
   "source": []
  }
 ],
 "metadata": {
  "kernelspec": {
   "display_name": "Python 3",
   "language": "python",
   "name": "python3"
  },
  "language_info": {
   "codemirror_mode": {
    "name": "ipython",
    "version": 3
   },
   "file_extension": ".py",
   "mimetype": "text/x-python",
   "name": "python",
   "nbconvert_exporter": "python",
   "pygments_lexer": "ipython3",
   "version": "3.6.7"
  }
 },
 "nbformat": 4,
 "nbformat_minor": 2
}
