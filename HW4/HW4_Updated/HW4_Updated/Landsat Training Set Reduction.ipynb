{
 "cells": [
  {
   "cell_type": "markdown",
   "metadata": {},
   "source": [
    "This notebook is about the Landsat dataset. Please upload the small version of the training data (landsat_train_small.csv) to a 'landsat' directory in the home directory of your Hadoop cluster via\n",
    "\n",
    "* hadoop fs -mkdir landsat\n",
    "* hadoop fs -put landsat_train_small.csv landsat/\n",
    "\n",
    "Next, follow the instructions provided below ..."
   ]
  },
  {
   "cell_type": "code",
   "execution_count": null,
   "metadata": {},
   "outputs": [],
   "source": [
    "training = sc.textFile(\"hdfs:///user/lsda/landsat/landsat_train_small.csv\")\n",
    "print(\"First line of the training RDD: {}\".format(training.take(1)))\n",
    "print(\"Number of elements in the training RDD: {}\".format(training.count()))"
   ]
  },
  {
   "cell_type": "markdown",
   "metadata": {},
   "source": [
    "Let us define a Python function to extract, for each line, the label and the associated features."
   ]
  },
  {
   "cell_type": "code",
   "execution_count": null,
   "metadata": {},
   "outputs": [],
   "source": [
    "def parse(line):\n",
    "    \n",
    "    try:\n",
    "    \n",
    "        line = line.split(',')\n",
    "        label = int(line[0])\n",
    "        features = [float(f) for f in line[1:]]\n",
    "        \n",
    "        return (label, features)\n",
    "    \n",
    "    except Exception as e:\n",
    "        \n",
    "        return None\n",
    "\n",
    "training = training.map(parse)\n",
    "training = training.filter(lambda line: line is not None)\n",
    "\n",
    "print(\"First line of modified RDD: {}\".format(training.take(1)))"
   ]
  },
  {
   "cell_type": "markdown",
   "metadata": {},
   "source": [
    "Next, make use of the 'map' and 'reduceByKey' transformations to count how often each single class occurs in the training RDD."
   ]
  },
  {
   "cell_type": "code",
   "execution_count": null,
   "metadata": {},
   "outputs": [],
   "source": [
    "# YOUR CODE HERE\n",
    "#\n",
    "# Make use of 'map' and 'reduceByKey' to count how\n",
    "# often a label is given in the training RDD\n",
    "\n",
    "# counts = ..."
   ]
  },
  {
   "cell_type": "code",
   "execution_count": null,
   "metadata": {},
   "outputs": [],
   "source": [
    "# to plot the class distribution, we need to get the \n",
    "# statistics back to the driver\n",
    "classes_local, counts_local = zip(*counts.collect())\n",
    "\n",
    "# plot the class histogram\n",
    "%matplotlib inline\n",
    "import matplotlib.pyplot as plt\n",
    "plt.bar(classes_local, counts_local)\n",
    "plt.show()"
   ]
  },
  {
   "cell_type": "markdown",
   "metadata": {},
   "source": [
    "The class distribution is very skewed. Next, we will generate a new version of the training RDD that is more balanced w.r.t. the labels. Given this modified training set, we will be able to efficiently train a tree ensemble on the driver.\n",
    "\n",
    "Make use of the 'sampleByKey' transformation to generate a more balanced dataset. Have a look at the section *Stratified sampling* of the [documentation](https://spark.apache.org/docs/latest/mllib-statistics.html)."
   ]
  },
  {
   "cell_type": "code",
   "execution_count": null,
   "metadata": {},
   "outputs": [],
   "source": [
    "fractions = {2: 1.0, 3: 1.0, 4: 0.001, 5:1.0, 6:0.1, 7:1.0, 8:1.0}\n",
    "\n",
    "# YOUR CODE HERE (use the above fractions and sample without replacement)\n",
    "# USE seed=0 for reproducibility!\n",
    "# training_balanced = ... "
   ]
  },
  {
   "cell_type": "markdown",
   "metadata": {},
   "source": [
    "Let us count again and plot the outcome:"
   ]
  },
  {
   "cell_type": "code",
   "execution_count": null,
   "metadata": {},
   "outputs": [],
   "source": [
    "# YOUR CODE HERE\n",
    "\n",
    "# generate another plot, this time based on \n",
    "# the training_balanced RDD\n",
    "\n",
    "# counts = ...\n",
    "\n",
    "classes_local, counts_local = zip(*counts.collect())\n",
    "\n",
    "import matplotlib.pyplot as plt\n",
    "plt.bar(classes_local, counts_local)\n",
    "plt.show()"
   ]
  },
  {
   "cell_type": "markdown",
   "metadata": {},
   "source": [
    "Let's copy the small subset of the training instances back to the driver. Since we only have about 10K instances left, we can simply build the ensemble on the driver."
   ]
  },
  {
   "cell_type": "code",
   "execution_count": null,
   "metadata": {},
   "outputs": [],
   "source": [
    "# YOUR CODE HERE\n",
    "\n",
    "# (1) copy the balanced training subset to the driver via 'collect'\n",
    "# (2) create an extra trees classifier via sklearn using\n",
    "#     n_estimators=50, max_depth=10, random_state=0\n",
    "\n",
    "# model = ...\n"
   ]
  },
  {
   "cell_type": "markdown",
   "metadata": {},
   "source": [
    "Finally, let's check the accuracy of the ensemble on the training set. Further, we save the model to a file for later use ..."
   ]
  },
  {
   "cell_type": "code",
   "execution_count": null,
   "metadata": {},
   "outputs": [],
   "source": [
    "from sklearn.metrics import accuracy_score\n",
    "\n",
    "# compute accuracy on training set\n",
    "preds = model.predict(Xtrain)\n",
    "print(\"Training accuracy is: {}\".format(accuracy_score(preds, ytrain)))\n",
    "\n",
    "# save model via pickle\n",
    "import pickle\n",
    "with open(\"model.save\", 'wb') as f:\n",
    "    pickle.dump(model, f)"
   ]
  },
  {
   "cell_type": "code",
   "execution_count": null,
   "metadata": {},
   "outputs": [],
   "source": []
  }
 ],
 "metadata": {
  "kernelspec": {
   "display_name": "Python 3",
   "language": "python",
   "name": "python3"
  },
  "language_info": {
   "codemirror_mode": {
    "name": "ipython",
    "version": 3
   },
   "file_extension": ".py",
   "mimetype": "text/x-python",
   "name": "python",
   "nbconvert_exporter": "python",
   "pygments_lexer": "ipython3",
   "version": "3.6.7"
  }
 },
 "nbformat": 4,
 "nbformat_minor": 2
}
